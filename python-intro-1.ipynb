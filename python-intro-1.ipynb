{
 "cells": [
  {
   "cell_type": "markdown",
   "metadata": {},
   "source": [
    "# Python is interpreted\n",
    "Which means that the statements we type are interpreted and executed immediately.\n",
    "\n",
    "....or in other words, we can use it as a calculator!\n",
    "\n",
    "Given that the distance between Edinburgh and London is 403 miles, can we convert that to km?"
   ]
  },
  {
   "cell_type": "code",
   "execution_count": 1,
   "metadata": {},
   "outputs": [
    {
     "data": {
      "text/plain": [
       "648.56402"
      ]
     },
     "execution_count": 1,
     "metadata": {},
     "output_type": "execute_result"
    }
   ],
   "source": [
    "403 * 1.60934"
   ]
  },
  {
   "cell_type": "markdown",
   "metadata": {},
   "source": [
    "Typing in numbers gets tedious quickly, how can we get around that?\n",
    "\n",
    "# Variables\n",
    "are human-readable containers that can store numbers, characters, strings or any other value.\n",
    "\n",
    "Let's try to calculate the distance between Edinburgh and London in km again:"
   ]
  },
  {
   "cell_type": "code",
   "execution_count": 2,
   "metadata": {},
   "outputs": [
    {
     "data": {
      "text/plain": [
       "648.56402"
      ]
     },
     "execution_count": 2,
     "metadata": {},
     "output_type": "execute_result"
    }
   ],
   "source": [
    "distanceToLondonMiles = 403\n",
    "mileToKm = 1.60934\n",
    "distanceToLondonKm = distanceToLondonMiles * mileToKm\n",
    "distanceToLondonKm"
   ]
  },
  {
   "cell_type": "markdown",
   "metadata": {},
   "source": [
    "That's neat! Now we can reuse the variable `mileToKm` for other conversions without having to type it in again!\n",
    "\n",
    "Can we do the same conversion for a marathon, while keeping some of the variables above?"
   ]
  },
  {
   "cell_type": "code",
   "execution_count": 3,
   "metadata": {},
   "outputs": [
    {
     "name": "stdout",
     "output_type": "stream",
     "text": [
      "42.19528546\n"
     ]
    }
   ],
   "source": [
    "marathonDistanceMiles = 26.219\n",
    "marathonDistanceKm = marathonDistanceMiles * mileToKm\n",
    "print(marathonDistanceKm)"
   ]
  },
  {
   "cell_type": "markdown",
   "metadata": {},
   "source": [
    "Note that you can't add whitespaces to variable names, which means that we need combine multiple words into one. Possiblities:\n",
    "\n",
    "```python\n",
    "allbundledtogether = \"not readable\"\n",
    "CamelCase = \"readable\"\n",
    "under_score = \"readable\"\n",
    "```"
   ]
  },
  {
   "cell_type": "markdown",
   "metadata": {},
   "source": [
    "## Types\n",
    "\n",
    "The values in these containers are stored as particular types. The important ones to remember are:\n",
    "\n",
    "| Type | Declaration | Example | Usage |\n",
    "|----|----|----|----|\n",
    "| Integer  | int | `x = 124` | Numbers without decimal point |\n",
    "| Float  | float | `x = 124.56` | Numbers with decimcal point |\n",
    "| String  | str | `x = \"Hello world\"` | Used for text |\n",
    "| Boolean  | bool | `x = True` or `x = False` | Used for conditional statements |\n",
    "| NoneType  | None | `x = None` | Whenever you want an empty variable |\n",
    "\n",
    "How does all of that actually affect us? Well, let's try to add an Integer and a String:\n"
   ]
  },
  {
   "cell_type": "code",
   "execution_count": 4,
   "metadata": {
    "scrolled": true
   },
   "outputs": [
    {
     "ename": "TypeError",
     "evalue": "unsupported operand type(s) for +: 'int' and 'str'",
     "output_type": "error",
     "traceback": [
      "\u001b[0;31m---------------------------------------------------------------------------\u001b[0m",
      "\u001b[0;31mTypeError\u001b[0m                                 Traceback (most recent call last)",
      "\u001b[0;32m<ipython-input-4-f1463b8b4c2e>\u001b[0m in \u001b[0;36m<module>\u001b[0;34m()\u001b[0m\n\u001b[1;32m      1\u001b[0m \u001b[0mx\u001b[0m \u001b[0;34m=\u001b[0m \u001b[0;36m10\u001b[0m    \u001b[0;31m# This is an integer\u001b[0m\u001b[0;34m\u001b[0m\u001b[0m\n\u001b[1;32m      2\u001b[0m \u001b[0my\u001b[0m \u001b[0;34m=\u001b[0m \u001b[0;34m\"20\"\u001b[0m  \u001b[0;31m# This is a string\u001b[0m\u001b[0;34m\u001b[0m\u001b[0m\n\u001b[0;32m----> 3\u001b[0;31m \u001b[0mx\u001b[0m \u001b[0;34m+\u001b[0m \u001b[0my\u001b[0m\u001b[0;34m\u001b[0m\u001b[0m\n\u001b[0m",
      "\u001b[0;31mTypeError\u001b[0m: unsupported operand type(s) for +: 'int' and 'str'"
     ]
    }
   ],
   "source": [
    "x = 10    # This is an integer\n",
    "y = \"20\"  # This is a string\n",
    "x + y"
   ]
  },
  {
   "cell_type": "markdown",
   "metadata": {},
   "source": [
    "Whoops! Seems like we managed to break Python.\n",
    "\n",
    "Luckily, Python offers an easy way to convert one variable to another. Let's try our example again."
   ]
  },
  {
   "cell_type": "code",
   "execution_count": 5,
   "metadata": {},
   "outputs": [
    {
     "data": {
      "text/plain": [
       "30"
      ]
     },
     "execution_count": 5,
     "metadata": {},
     "output_type": "execute_result"
    }
   ],
   "source": [
    "x = 10    # This is an integer\n",
    "y = \"20\"  # This is a string\n",
    "x + int(y)"
   ]
  },
  {
   "cell_type": "markdown",
   "metadata": {},
   "source": [
    "We just converted the String variable y to an Integer! Actually, we can convert any type of variable to another type in a similar manner! For example, we can convert `y` back to a String with `str(y)`.\n",
    "\n",
    "If you are ever unsure of what type a variable you can use the `type()` function to find out."
   ]
  },
  {
   "cell_type": "code",
   "execution_count": 6,
   "metadata": {},
   "outputs": [
    {
     "data": {
      "text/plain": [
       "float"
      ]
     },
     "execution_count": 6,
     "metadata": {},
     "output_type": "execute_result"
    }
   ],
   "source": [
    "type(mileToKm)"
   ]
  },
  {
   "cell_type": "markdown",
   "metadata": {},
   "source": [
    "What if we make x and y Strings and add them up?"
   ]
  },
  {
   "cell_type": "code",
   "execution_count": 7,
   "metadata": {},
   "outputs": [
    {
     "data": {
      "text/plain": [
       "'1020'"
      ]
     },
     "execution_count": 7,
     "metadata": {},
     "output_type": "execute_result"
    }
   ],
   "source": [
    "x = \"10\"\n",
    "y = \"20\"\n",
    "x + y"
   ]
  },
  {
   "cell_type": "markdown",
   "metadata": {},
   "source": [
    "That doesn't seem arithmetically correct but is correct in the world of Python. We effectively concatinated 2 strings!\n",
    "\n",
    "Notice how the `+` operator behaves differently depending on the type of the variables. This is an imporant principle which spans across the whole Python language!"
   ]
  },
  {
   "cell_type": "markdown",
   "metadata": {},
   "source": [
    "### Exercise\n",
    "1. Create a variable x and assign the value 4 to it.\n",
    "2. Create another variable y and assign to it the value of x\n",
    "3. Change the value of x to be \"four\"\n",
    "\n",
    "Confirm your results by typing `x,y` at the end of the code cell. This will print out the values of the 2 variables."
   ]
  },
  {
   "cell_type": "code",
   "execution_count": 8,
   "metadata": {},
   "outputs": [
    {
     "data": {
      "text/plain": [
       "('four', 4)"
      ]
     },
     "execution_count": 8,
     "metadata": {},
     "output_type": "execute_result"
    }
   ],
   "source": [
    "x = 4\n",
    "y = x\n",
    "x = \"four\"\n",
    "\n",
    "x, y"
   ]
  },
  {
   "cell_type": "markdown",
   "metadata": {},
   "source": [
    "# Arithmetical operators\n",
    "\n",
    "Now let's see how we can make full use of our new calculator. Python supports a range of different arithmetical operators:\n",
    "\n",
    "| Symbol | Task Performed | Example | Result\n",
    "|----|---|---|---|\n",
    "| +  | Addition | 4 + 3 | 7 |\n",
    "| -  | Subtraction | 4 - 3 | 1 |\n",
    "| /  | Division | 7 / 2 | 3.5 |\n",
    "| %  | Mod | 7 % 2 | 1 |\n",
    "| *  | Multiplication | 4 * 3 | 12 |\n",
    "| //  | Floor division | 7 // 2 | 3 |\n",
    "| **  | Power of | 7 ** 2 | 49 |\n",
    "\n",
    "Make note of how the different division operators work."
   ]
  },
  {
   "cell_type": "code",
   "execution_count": 9,
   "metadata": {},
   "outputs": [
    {
     "data": {
      "text/plain": [
       "64.0"
      ]
     },
     "execution_count": 9,
     "metadata": {},
     "output_type": "execute_result"
    }
   ],
   "source": [
    "16 ** 2 / 4"
   ]
  },
  {
   "cell_type": "markdown",
   "metadata": {},
   "source": [
    "What happens if we have a lot of operators on the same line? It becomes difficult to read and increases your chances of making an error. Let's try to calculate `7 ** 2` again but this time represent 7 as 4 + 3."
   ]
  },
  {
   "cell_type": "code",
   "execution_count": 10,
   "metadata": {},
   "outputs": [
    {
     "data": {
      "text/plain": [
       "13"
      ]
     },
     "execution_count": 10,
     "metadata": {},
     "output_type": "execute_result"
    }
   ],
   "source": [
    "4 + 3 ** 2"
   ]
  },
  {
   "cell_type": "markdown",
   "metadata": {},
   "source": [
    "That doesn't seem correct. Just like in actual Mathematics, we can put parenthesis when calculating. \n",
    "\n",
    "**Operator precendence** in Python works the same way as it does in Mathematics!"
   ]
  },
  {
   "cell_type": "code",
   "execution_count": 11,
   "metadata": {},
   "outputs": [
    {
     "data": {
      "text/plain": [
       "49"
      ]
     },
     "execution_count": 11,
     "metadata": {},
     "output_type": "execute_result"
    }
   ],
   "source": [
    "(4 + 3) ** 2"
   ]
  },
  {
   "cell_type": "markdown",
   "metadata": {},
   "source": [
    "### Exercise\n",
    "Perform the followig calculations:\n",
    "1. Multiply 549 by 72108\n",
    "2. Add 48 to it\n",
    "3. Divide it by 31\n",
    "\n",
    "and find the whole-number part of the result.\n",
    "\n",
    "_(Hint: you may at some point find floor division useful)_"
   ]
  },
  {
   "cell_type": "code",
   "execution_count": 12,
   "metadata": {},
   "outputs": [
    {
     "data": {
      "text/plain": [
       "1277010"
      ]
     },
     "execution_count": 12,
     "metadata": {},
     "output_type": "execute_result"
    }
   ],
   "source": [
    "(549*72108 + 48)//31"
   ]
  },
  {
   "cell_type": "markdown",
   "metadata": {},
   "source": [
    "# Boolean logic\n",
    "It would be useful if we can compare values while using them. To do that we can use **comparison operators**:\n",
    "\n",
    "| Operator | Output | \n",
    "|----|---|\n",
    "| x == y | True if x and y have the same value |\n",
    "| x != y | True if x and y don't have the same value |\n",
    "| x < y | True if x is less than y |\n",
    "| x > y | True if x is more than y |\n",
    "| x <= y | True if x is less than or equal to y |\n",
    "| x >= y | True if x is more than or equal to y |\n",
    "\n",
    "Make note that these operators return Boolean values (ie. `True` or `False`). Naturally, if the operations don't return `True`, they will return `False`. Let's try some of them out:"
   ]
  },
  {
   "cell_type": "code",
   "execution_count": 13,
   "metadata": {},
   "outputs": [
    {
     "data": {
      "text/plain": [
       "True"
      ]
     },
     "execution_count": 13,
     "metadata": {},
     "output_type": "execute_result"
    }
   ],
   "source": [
    "x = 5       # assign 5 to the variable x\n",
    "x == 5      # check if value of x is 5"
   ]
  },
  {
   "cell_type": "markdown",
   "metadata": {},
   "source": [
    "*Note that `==` is not the same as `=`*"
   ]
  },
  {
   "cell_type": "code",
   "execution_count": 14,
   "metadata": {},
   "outputs": [
    {
     "data": {
      "text/plain": [
       "False"
      ]
     },
     "execution_count": 14,
     "metadata": {},
     "output_type": "execute_result"
    }
   ],
   "source": [
    "x > 7"
   ]
  },
  {
   "cell_type": "markdown",
   "metadata": {},
   "source": [
    "That is nice! How can we extend this to link multiple combinations like that? Luckily, Python offers the usual set of **logical operations**:\n",
    "\n",
    "| Operation | Result | \n",
    "|----|---|\n",
    "| x or y | True if at least on is True |\n",
    "| x and y  | True only if both are True |\n",
    "| not x | True only if x is False |\n",
    "\n",
    "Here are some examples of them:\n",
    "```\n",
    "True  and True  is True\n",
    "True  and False is False\n",
    "False and False is False\n",
    "\n",
    "False or False is False\n",
    "True  or True  is True\n",
    "True  or False is True\n",
    "\n",
    "not True  is False\n",
    "not False is True\n",
    "```\n",
    "\n",
    "With this knowledge, we can now chain different boolean operations. The simplest of which is to check if a number is within a range."
   ]
  },
  {
   "cell_type": "code",
   "execution_count": 15,
   "metadata": {},
   "outputs": [
    {
     "data": {
      "text/plain": [
       "True"
      ]
     },
     "execution_count": 15,
     "metadata": {},
     "output_type": "execute_result"
    }
   ],
   "source": [
    "x = 14\n",
    "# check if x is within the range 10..20\n",
    "\n",
    "( x > 10 ) and ( x < 20)"
   ]
  },
  {
   "cell_type": "markdown",
   "metadata": {},
   "source": [
    "As seen, parenthesis are helpful here as well and make the code more readable! That being said, what happens if we have a really complicated boolean logic?"
   ]
  },
  {
   "cell_type": "code",
   "execution_count": 16,
   "metadata": {},
   "outputs": [
    {
     "data": {
      "text/plain": [
       "True"
      ]
     },
     "execution_count": 16,
     "metadata": {},
     "output_type": "execute_result"
    }
   ],
   "source": [
    "# check if x is a multiple of 2\n",
    "# check if x is a multiple of 3\n",
    "# check whether x is not divisible by 6 = 2*3.\n",
    "x = 14\n",
    "\n",
    "not (( x % 2 == 0 ) and ( x % 3 == 0))"
   ]
  },
  {
   "cell_type": "markdown",
   "metadata": {},
   "source": [
    "and it became a mess...\n",
    "\n",
    "To make it more understandable we can introduce intermediate variables like previously:"
   ]
  },
  {
   "cell_type": "code",
   "execution_count": 17,
   "metadata": {},
   "outputs": [
    {
     "data": {
      "text/plain": [
       "True"
      ]
     },
     "execution_count": 17,
     "metadata": {},
     "output_type": "execute_result"
    }
   ],
   "source": [
    "x = 14\n",
    "\n",
    "xDivBy2 = ( x % 2 ) == 0 # check if x is a multiple of 2\n",
    "xDivBy3 = ( x % 3 ) == 0 # check if x is a multiple of 3\n",
    "\n",
    "not (xDivBy2 and xDivBy3)"
   ]
  },
  {
   "cell_type": "markdown",
   "metadata": {},
   "source": [
    "### Exercise\n",
    "The code below generates a random number between -50 and 50. Complete the code block using boolean logic to check if `x` lies in the range [0, 10]. (Recall that $x$ in $[a, b]$ means $a \\leq x \\leq b$.)"
   ]
  },
  {
   "cell_type": "code",
   "execution_count": 18,
   "metadata": {},
   "outputs": [
    {
     "ename": "NameError",
     "evalue": "name 'random' is not defined",
     "output_type": "error",
     "traceback": [
      "\u001b[0;31m---------------------------------------------------------------------------\u001b[0m",
      "\u001b[0;31mNameError\u001b[0m                                 Traceback (most recent call last)",
      "\u001b[0;32m<ipython-input-18-a2960ba15fc6>\u001b[0m in \u001b[0;36m<module>\u001b[0;34m()\u001b[0m\n\u001b[0;32m----> 1\u001b[0;31m \u001b[0mx\u001b[0m \u001b[0;34m=\u001b[0m \u001b[0;36m100\u001b[0m\u001b[0;34m*\u001b[0m\u001b[0mrandom\u001b[0m\u001b[0;34m.\u001b[0m\u001b[0mrandom\u001b[0m\u001b[0;34m(\u001b[0m\u001b[0;34m)\u001b[0m \u001b[0;34m-\u001b[0m \u001b[0;36m50\u001b[0m\u001b[0;34m\u001b[0m\u001b[0m\n\u001b[0m\u001b[1;32m      2\u001b[0m \u001b[0;34m\u001b[0m\u001b[0m\n\u001b[1;32m      3\u001b[0m \u001b[0;31m# Finish this block\u001b[0m\u001b[0;34m\u001b[0m\u001b[0;34m\u001b[0m\u001b[0m\n\u001b[1;32m      4\u001b[0m \u001b[0mx\u001b[0m \u001b[0;34m>=\u001b[0m \u001b[0;36m0\u001b[0m \u001b[0;32mand\u001b[0m \u001b[0mx\u001b[0m \u001b[0;34m<=\u001b[0m\u001b[0;36m10\u001b[0m\u001b[0;34m\u001b[0m\u001b[0m\n",
      "\u001b[0;31mNameError\u001b[0m: name 'random' is not defined"
     ]
    }
   ],
   "source": [
    "x = 100*random.random() - 50\n",
    "\n",
    "# Finish this block\n",
    "x >= 0 and x <=10"
   ]
  },
  {
   "cell_type": "markdown",
   "metadata": {},
   "source": [
    "# Strings\n",
    "Strings are very powerful in Python and offer a lot of functionality. For one, they can be added and multiplied. That sounds a bit absurd, how can you add and multiply words? Well, they can and actually they can do much more."
   ]
  },
  {
   "cell_type": "code",
   "execution_count": 19,
   "metadata": {},
   "outputs": [
    {
     "data": {
      "text/plain": [
       "'Python rocks'"
      ]
     },
     "execution_count": 19,
     "metadata": {},
     "output_type": "execute_result"
    }
   ],
   "source": [
    "x = \"Python\"\n",
    "y = \"rocks\"\n",
    "x + \" \" + y"
   ]
  },
  {
   "cell_type": "code",
   "execution_count": 20,
   "metadata": {},
   "outputs": [
    {
     "data": {
      "text/plain": [
       "'This can be repeated repeated repeated '"
      ]
     },
     "execution_count": 20,
     "metadata": {},
     "output_type": "execute_result"
    }
   ],
   "source": [
    "x = \"This can be\"\n",
    "y = \"repeated \"\n",
    "x + \" \" + y * 3"
   ]
  },
  {
   "cell_type": "markdown",
   "metadata": {},
   "source": [
    "Strings also have som of built-in functions which alter them directly. Here are some of them:"
   ]
  },
  {
   "cell_type": "code",
   "execution_count": 21,
   "metadata": {},
   "outputs": [
    {
     "data": {
      "text/plain": [
       "'university of EDINBURGH'"
      ]
     },
     "execution_count": 21,
     "metadata": {},
     "output_type": "execute_result"
    }
   ],
   "source": [
    "x = \"Edinburgh\"\n",
    "x = x.upper()\n",
    "\n",
    "y = \"University Of \"\n",
    "y = y.lower()\n",
    "\n",
    "y + x"
   ]
  },
  {
   "cell_type": "markdown",
   "metadata": {},
   "source": [
    "To find out its full capabilities you can use the `dir()` function which prints all available methods of the object. Feel free to try out some of the other String ones."
   ]
  },
  {
   "cell_type": "code",
   "execution_count": 22,
   "metadata": {},
   "outputs": [
    {
     "data": {
      "text/plain": [
       "['__add__',\n",
       " '__class__',\n",
       " '__contains__',\n",
       " '__delattr__',\n",
       " '__dir__',\n",
       " '__doc__',\n",
       " '__eq__',\n",
       " '__format__',\n",
       " '__ge__',\n",
       " '__getattribute__',\n",
       " '__getitem__',\n",
       " '__getnewargs__',\n",
       " '__gt__',\n",
       " '__hash__',\n",
       " '__init__',\n",
       " '__init_subclass__',\n",
       " '__iter__',\n",
       " '__le__',\n",
       " '__len__',\n",
       " '__lt__',\n",
       " '__mod__',\n",
       " '__mul__',\n",
       " '__ne__',\n",
       " '__new__',\n",
       " '__reduce__',\n",
       " '__reduce_ex__',\n",
       " '__repr__',\n",
       " '__rmod__',\n",
       " '__rmul__',\n",
       " '__setattr__',\n",
       " '__sizeof__',\n",
       " '__str__',\n",
       " '__subclasshook__',\n",
       " 'capitalize',\n",
       " 'casefold',\n",
       " 'center',\n",
       " 'count',\n",
       " 'encode',\n",
       " 'endswith',\n",
       " 'expandtabs',\n",
       " 'find',\n",
       " 'format',\n",
       " 'format_map',\n",
       " 'index',\n",
       " 'isalnum',\n",
       " 'isalpha',\n",
       " 'isdecimal',\n",
       " 'isdigit',\n",
       " 'isidentifier',\n",
       " 'islower',\n",
       " 'isnumeric',\n",
       " 'isprintable',\n",
       " 'isspace',\n",
       " 'istitle',\n",
       " 'isupper',\n",
       " 'join',\n",
       " 'ljust',\n",
       " 'lower',\n",
       " 'lstrip',\n",
       " 'maketrans',\n",
       " 'partition',\n",
       " 'replace',\n",
       " 'rfind',\n",
       " 'rindex',\n",
       " 'rjust',\n",
       " 'rpartition',\n",
       " 'rsplit',\n",
       " 'rstrip',\n",
       " 'split',\n",
       " 'splitlines',\n",
       " 'startswith',\n",
       " 'strip',\n",
       " 'swapcase',\n",
       " 'title',\n",
       " 'translate',\n",
       " 'upper',\n",
       " 'zfill']"
      ]
     },
     "execution_count": 22,
     "metadata": {},
     "output_type": "execute_result"
    }
   ],
   "source": [
    "dir('str')"
   ]
  },
  {
   "cell_type": "markdown",
   "metadata": {},
   "source": [
    "but what if we want to include numbers in strings? Surely we can keep a number stored as a String (ie. `x = \"20\"`) but we can't use that number for actual calculations. \n",
    "\n",
    "The right way to do this is to keep numbers represented by numbers (ie. integers, floats, etc.) and only convert them to Strings whenever needed. To show how to do that let us compute the answer to the universe."
   ]
  },
  {
   "cell_type": "code",
   "execution_count": 23,
   "metadata": {},
   "outputs": [
    {
     "data": {
      "text/plain": [
       "'The answer to Life, the Universe and Everything is 42'"
      ]
     },
     "execution_count": 23,
     "metadata": {},
     "output_type": "execute_result"
    }
   ],
   "source": [
    "x = 6\n",
    "x = ( x * 441 ) // 63\n",
    "\"The answer to Life, the Universe and Everything is \" + str(x)"
   ]
  },
  {
   "cell_type": "markdown",
   "metadata": {},
   "source": [
    "### Exercise\n",
    "The code below assigns the current day, month and year to variables (you don't need to worry about how this works for now). Complete the block with a string stating \"Today is the Dth day of the Mth month of the Yth year\", where D, M, Y are given by the variables below."
   ]
  },
  {
   "cell_type": "code",
   "execution_count": 24,
   "metadata": {},
   "outputs": [
    {
     "name": "stdout",
     "output_type": "stream",
     "text": [
      "Today is the 22th day of the 5th month of the 2019th year\n"
     ]
    }
   ],
   "source": [
    "import datetime\n",
    "today = datetime.date.today()\n",
    "day = today.day\n",
    "month = today.month\n",
    "year = today.year\n",
    "\n",
    "#Create your string\n",
    "print(\"Today is the\", str(day)+\"th\", \"day of the\", str(month)+\"th\", \"month of the\", str(year)+\"th\", \"year\")"
   ]
  },
  {
   "cell_type": "markdown",
   "metadata": {},
   "source": [
    "# Printing\n",
    "When writing your own script you won't have the luxury of printing the value of a variable simply by typing its name(like we have been doing until now), you will have to use `print()` to check any values. Luckily it's quite versatile and powerful but also has a few quirks."
   ]
  },
  {
   "cell_type": "code",
   "execution_count": 25,
   "metadata": {},
   "outputs": [
    {
     "name": "stdout",
     "output_type": "stream",
     "text": [
      "Python is powerful!\n"
     ]
    }
   ],
   "source": [
    "print(\"Python is powerful!\")"
   ]
  },
  {
   "cell_type": "code",
   "execution_count": 26,
   "metadata": {},
   "outputs": [
    {
     "name": "stdout",
     "output_type": "stream",
     "text": [
      "Python is powerful and versatile!\n"
     ]
    }
   ],
   "source": [
    "x = \"Python is powerful\"\n",
    "y = \" and versatile!\"\n",
    "print(x + y)"
   ]
  },
  {
   "cell_type": "code",
   "execution_count": 27,
   "metadata": {},
   "outputs": [
    {
     "ename": "TypeError",
     "evalue": "must be str, not int",
     "output_type": "error",
     "traceback": [
      "\u001b[0;31m---------------------------------------------------------------------------\u001b[0m",
      "\u001b[0;31mTypeError\u001b[0m                                 Traceback (most recent call last)",
      "\u001b[0;32m<ipython-input-27-8c926cb9f412>\u001b[0m in \u001b[0;36m<module>\u001b[0;34m()\u001b[0m\n\u001b[1;32m      2\u001b[0m \u001b[0mstr2\u001b[0m \u001b[0;34m=\u001b[0m \u001b[0;36m76\u001b[0m\u001b[0;34m\u001b[0m\u001b[0m\n\u001b[1;32m      3\u001b[0m \u001b[0mstr3\u001b[0m \u001b[0;34m=\u001b[0m \u001b[0;34m\"methods!\"\u001b[0m\u001b[0;34m\u001b[0m\u001b[0m\n\u001b[0;32m----> 4\u001b[0;31m \u001b[0mprint\u001b[0m\u001b[0;34m(\u001b[0m\u001b[0mstr1\u001b[0m \u001b[0;34m+\u001b[0m \u001b[0mstr2\u001b[0m \u001b[0;34m+\u001b[0m \u001b[0mstr3\u001b[0m\u001b[0;34m)\u001b[0m\u001b[0;34m\u001b[0m\u001b[0m\n\u001b[0m",
      "\u001b[0;31mTypeError\u001b[0m: must be str, not int"
     ]
    }
   ],
   "source": [
    "str1 = \"The string class has\"\n",
    "str2 = 76\n",
    "str3 = \"methods!\"\n",
    "print(str1 + str2 + str3)"
   ]
  },
  {
   "cell_type": "markdown",
   "metadata": {},
   "source": [
    "This doesn't really work and it is not an issue of `print`. It is actually because we are trying to add a String to an Integer. As seen previously, we can convert this to a string using `str()`:"
   ]
  },
  {
   "cell_type": "code",
   "execution_count": 28,
   "metadata": {},
   "outputs": [
    {
     "name": "stdout",
     "output_type": "stream",
     "text": [
      "The string class has 76 methods!\n"
     ]
    }
   ],
   "source": [
    "str1 = \"The string class has \"\n",
    "str2 = 76\n",
    "str3 = \" methods!\"\n",
    "print(str1 + str(str2) + str3)  # You will have to convert str2 to a string before you can print it"
   ]
  },
  {
   "cell_type": "markdown",
   "metadata": {},
   "source": [
    "Surely Python would have a more elegant solution, right? Correct!\n",
    "\n",
    "You can use `print` in the format `print(argument1, argument2, argument3, .. ,argumentN)` which allows us to print nearly every type of variable, which is quite useful and doesn't require us to do type conversions all the time. "
   ]
  },
  {
   "cell_type": "code",
   "execution_count": 29,
   "metadata": {},
   "outputs": [
    {
     "name": "stdout",
     "output_type": "stream",
     "text": [
      "which means it has even more than 76 quirks\n"
     ]
    }
   ],
   "source": [
    "str1 = \"which means it has even more than\"\n",
    "str2 = 76\n",
    "str3 = \"quirks\"\n",
    "print(str1, str2, str3)"
   ]
  },
  {
   "cell_type": "markdown",
   "metadata": {},
   "source": [
    "Furthermore, there is also a way to insert variables inbetween text using placeholders like `%d` which stands for decimal. As seen from the bode cell below, this is an extremely compact and easy way to print. "
   ]
  },
  {
   "cell_type": "code",
   "execution_count": 30,
   "metadata": {},
   "outputs": [
    {
     "name": "stdout",
     "output_type": "stream",
     "text": [
      "You can also include a number like 12 like this\n"
     ]
    }
   ],
   "source": [
    "num = 12\n",
    "print(\"You can also include a number like %d like this\" %num)"
   ]
  },
  {
   "cell_type": "markdown",
   "metadata": {},
   "source": [
    "It's possible to represent `num` in other formats as well. Furthermore, we can also print multiple values in the same string as seen in the last line in the block below. You just need to make sure that they are in the right order."
   ]
  },
  {
   "cell_type": "code",
   "execution_count": 31,
   "metadata": {},
   "outputs": [
    {
     "name": "stdout",
     "output_type": "stream",
     "text": [
      "Float of the number = 12.000000\n",
      "Octal equivalent of the number = 14\n",
      "Hexadecimal equivalent of the number = c\n",
      "Exponential equivalent of the number = 1.200000e+01\n",
      "All at once: float = 12.000000, octal = 14, hex = c, exp = 1.200000e+01\n"
     ]
    }
   ],
   "source": [
    "num = 12\n",
    "print(\"Float of the number = %f\" %num)\n",
    "print(\"Octal equivalent of the number = %o\" %num)\n",
    "print(\"Hexadecimal equivalent of the number = %x\" %num)\n",
    "print(\"Exponential equivalent of the number = %e\" %num)\n",
    "print(\"All at once: float = %f, octal = %o, hex = %x, exp = %e\" % (num, num, num, num))"
   ]
  },
  {
   "cell_type": "markdown",
   "metadata": {},
   "source": [
    "An alternative to that is the `format()` method which can be applied to a string. For it to work you need to include ordered placeholders within your string ie. `{0}, {1}`. Looking at an example:"
   ]
  },
  {
   "cell_type": "code",
   "execution_count": 32,
   "metadata": {},
   "outputs": [
    {
     "name": "stdout",
     "output_type": "stream",
     "text": [
      "The name of Python is actually a reference to the 1970s BBC show Monty Python's Flying Circus\n"
     ]
    }
   ],
   "source": [
    "history = \"The name of {0} is actually a reference to the 1970s BBC show {1}\"\n",
    "print(history.format(\"Python\", \"Monty Python's Flying Circus\"))"
   ]
  },
  {
   "cell_type": "markdown",
   "metadata": {},
   "source": [
    "Before we move on it is also important to be able to assign multi-line strings. There are 2 ways to do that:"
   ]
  },
  {
   "cell_type": "code",
   "execution_count": 33,
   "metadata": {},
   "outputs": [
    {
     "name": "stdout",
     "output_type": "stream",
     "text": [
      "To include\n",
      "multiple lines\n",
      "you have to do this\n",
      "or you can also\n",
      "include the special\n",
      "character `\\n` between lines\n"
     ]
    }
   ],
   "source": [
    "x = \"\"\"To include\n",
    "multiple lines\n",
    "you have to do this\"\"\"\n",
    "y =\"or you can also\\ninclude the special\\ncharacter `\\\\n` between lines\"\n",
    "print(x)\n",
    "print(y)"
   ]
  },
  {
   "cell_type": "markdown",
   "metadata": {},
   "source": [
    "### Exercise\n",
    "The code below calculates the circumference of the Earth at the equator. Complete the block to print this circumference with a statement of how it was calculated (e.g \"Earth's diameter at equator: 12756 km. Equator's circumference: pi * 127556 = __ km\"). \n",
    "\n",
    "Print this statement 4 times, using a different method for printing each time."
   ]
  },
  {
   "cell_type": "code",
   "execution_count": 34,
   "metadata": {},
   "outputs": [
    {
     "name": "stdout",
     "output_type": "stream",
     "text": [
      "Earth's diameter at equator: 12756km. Equator's circumference: pi*12756 = 40074.12204km\n",
      "Earth's diameter at equator: 12756 km. Equator's circumference: pi* 12756 = 40074.12204 km\n",
      "Earth's diameter at equator: 12756km. Equator's circumference: pi*12756 = 40074.122040km\n",
      "Earth's diameter at equator: 12756km. Equator's circumference: pi*12756 = 40074.12204km\n"
     ]
    }
   ],
   "source": [
    "pi = 3.14159 # Pi\n",
    "d = 12756 # Diameter of eath at equator (in km)\n",
    "c = pi*d # Circumference of equator\n",
    "\n",
    "#Print using +, and casting\n",
    "print(\"Earth's diameter at equator: \" + str(d) + \"km. Equator's circumference: pi*\" + str(d) + \" = \" + str(c) + \"km\")\n",
    "\n",
    "#Print using several arguments\n",
    "print(\"Earth's diameter at equator:\", d, \"km. Equator's circumference: pi*\", d, \"=\", c, \"km\")\n",
    "\n",
    "#Print using % placeholders\n",
    "print(\"Earth's diameter at equator: %dkm. Equator's circumference: pi*%d = %fkm\" % (d, d, c))\n",
    "\n",
    "#Print using .format\n",
    "print(\"Earth's diameter at equator: {}km. Equator's circumference: pi*{} = {}km\".format(d, d, c))"
   ]
  },
  {
   "cell_type": "markdown",
   "metadata": {},
   "source": [
    "### Commenting\n",
    "\n",
    "When writing code you can also write a human-readable explanation of your code in the form of a comment. This can be done by typing in `#` and then writing extra information after it. For example:\n",
    "\n",
    "- `print(totalCost)` is ambiguous and we can't exactly be sure what `totalCost` is.\n",
    "- `print(totalCost)  # Prints the total cost for renovating the Main Library` is more informative\n",
    "\n",
    "Try running the following code, and then add a comment explaining what it does (how the code works is not important). Run the cell again to see that the code still runs correctly."
   ]
  },
  {
   "cell_type": "code",
   "execution_count": 35,
   "metadata": {},
   "outputs": [
    {
     "data": {
      "text/plain": [
       "'pkinnear'"
      ]
     },
     "execution_count": 35,
     "metadata": {},
     "output_type": "execute_result"
    }
   ],
   "source": [
    "# This code prints your username!!\n",
    "import socket\n",
    "socket.gethostname()[12:]"
   ]
  },
  {
   "cell_type": "markdown",
   "metadata": {},
   "source": [
    "# Exercises"
   ]
  },
  {
   "cell_type": "markdown",
   "metadata": {},
   "source": [
    "## 1. Error Spotting\n",
    "There seem to be a couple of issues with the code below. Can you make it run?"
   ]
  },
  {
   "cell_type": "code",
   "execution_count": 36,
   "metadata": {},
   "outputs": [
    {
     "name": "stdout",
     "output_type": "stream",
     "text": [
      "Calculating 252 // 6\n",
      "The answer is 42\n"
     ]
    }
   ],
   "source": [
    "x = \"Calculating 252 // 6\"\n",
    "print(x)\n",
    "answer = 252 // 6\n",
    "print(\"The answer is\", answer)"
   ]
  },
  {
   "cell_type": "markdown",
   "metadata": {},
   "source": [
    "Run this block to check your answer."
   ]
  },
  {
   "cell_type": "code",
   "execution_count": 37,
   "metadata": {},
   "outputs": [
    {
     "name": "stdout",
     "output_type": "stream",
     "text": [
      "Answer is correct. Good job!\n"
     ]
    }
   ],
   "source": [
    "################ Checking code ########################\n",
    "# Please don't edit this code\n",
    "if (type(answer) == type(12) and type(x) == type(\"string\")):\n",
    "    print (\"Answer is correct. Good job!\")\n",
    "else:\n",
    "    print(\"Wrong answer, please try again.\")"
   ]
  },
  {
   "cell_type": "markdown",
   "metadata": {},
   "source": [
    "## 2. 3D print yourself\n",
    "Calculate how much it would cost to 3D print a clone of yourself.\n",
    "\n",
    "1. Create a variable `pricePerKg` and assign to it the value of 3D printing material. (You can find that out on Amazon).\n",
    "2. Create a variable `myWeight` and assign your weight to it.\n",
    "3. Calculate the total cost, assign it to the variable total and print it."
   ]
  },
  {
   "cell_type": "code",
   "execution_count": 38,
   "metadata": {},
   "outputs": [
    {
     "name": "stdout",
     "output_type": "stream",
     "text": [
      "Total cost of 3d printing yourself is 1200\n"
     ]
    }
   ],
   "source": [
    "pricePerKg = 20\n",
    "myWeight = 60\n",
    "total = pricePerKg * myWeight\n",
    "print(\"Total cost of 3d printing yourself is\", total)"
   ]
  },
  {
   "cell_type": "markdown",
   "metadata": {},
   "source": [
    "The code below will check if your answer is in the right ballpark."
   ]
  },
  {
   "cell_type": "code",
   "execution_count": 39,
   "metadata": {},
   "outputs": [
    {
     "name": "stdout",
     "output_type": "stream",
     "text": [
      "Answer seems correct. Good job!\n"
     ]
    }
   ],
   "source": [
    "################ Checking code ########################\n",
    "# Please don't edit this code\n",
    "if (40.0 * 10.0 < total < 120.0 * 20.0):\n",
    "    print (\"Answer seems correct. Good job!\")\n",
    "else:\n",
    "    print(\"Wrong answer, please try again.\")"
   ]
  },
  {
   "cell_type": "markdown",
   "metadata": {},
   "source": [
    "## 3. Odd or even\n",
    "Create a program that asks the user to input an __integer__. Depending on whether the number is even or odd, print out an appropriate message to the user. \n",
    "\n",
    "*Hint: how does an even / odd number react differently when divided by 2?*"
   ]
  },
  {
   "cell_type": "code",
   "execution_count": 40,
   "metadata": {},
   "outputs": [
    {
     "name": "stdout",
     "output_type": "stream",
     "text": [
      "Please give me your number 5\n",
      "Is your number even? False\n"
     ]
    }
   ],
   "source": [
    "x = int(input(\"Please give me your number \"))\n",
    "isEven = (x%2) == 0\n",
    "print(\"Is your number even?\", isEven)"
   ]
  },
  {
   "cell_type": "code",
   "execution_count": null,
   "metadata": {},
   "outputs": [],
   "source": []
  }
 ],
 "metadata": {
  "kernelspec": {
   "display_name": "Python 3",
   "language": "python",
   "name": "python3"
  },
  "language_info": {
   "codemirror_mode": {
    "name": "ipython",
    "version": 3
   },
   "file_extension": ".py",
   "mimetype": "text/x-python",
   "name": "python",
   "nbconvert_exporter": "python",
   "pygments_lexer": "ipython3",
   "version": "3.6.6"
  }
 },
 "nbformat": 4,
 "nbformat_minor": 2
}
