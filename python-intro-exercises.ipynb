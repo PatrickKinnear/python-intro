{
 "cells": [
  {
   "cell_type": "markdown",
   "metadata": {},
   "source": [
    "# 1. Enumerate sentence\n",
    "Create a function that prints words within a sentence along with their index in front of the word itself.\n",
    "\n",
    "For example if we give the function the argument \"This is a sentence\" it should print\n",
    "\n",
    "```\n",
    "1 This\n",
    "2 is\n",
    "3 a\n",
    "4 sentence\n",
    "```"
   ]
  },
  {
   "cell_type": "code",
   "execution_count": 1,
   "metadata": {},
   "outputs": [
    {
     "name": "stdout",
     "output_type": "stream",
     "text": [
      "1 This\n",
      "2 is\n",
      "3 a\n",
      "4 sentence\n"
     ]
    }
   ],
   "source": [
    "def enumWords(sentence):\n",
    "    words = sentence.split(\" \")\n",
    "    for each in words:\n",
    "        print(words.index(each) + 1, each)\n",
    "\n",
    "\n",
    "enumWords(\"This is a sentence\")"
   ]
  },
  {
   "cell_type": "markdown",
   "metadata": {},
   "source": [
    "# 2. Fibonacci\n",
    "Create a function `fibonacci()` which takes an integer `num` as an input and returns the first `num` fibonacci numbers.\n",
    "\n",
    "Eg.\n",
    "\n",
    "Input: `8`\n",
    "\n",
    "Output: `[1, 1, 2, 3, 5, 8, 13, 21]`\n",
    "\n",
    "*Hint: You might want to recall [fibonacci numbers](https://en.wikipedia.org/wiki/Fibonacci_number)*"
   ]
  },
  {
   "cell_type": "code",
   "execution_count": 2,
   "metadata": {},
   "outputs": [
    {
     "name": "stdout",
     "output_type": "stream",
     "text": [
      "Success!\n"
     ]
    }
   ],
   "source": [
    "def fibonacci(num):\n",
    "    result = []\n",
    "    for n in range(num):\n",
    "        if (n < 2):\n",
    "            result.append(1)\n",
    "        else:\n",
    "            new_num = result[n-1] + result[n-2]\n",
    "            result.append(new_num)\n",
    "\n",
    "    return result\n",
    "    \n",
    "    \n",
    "################ Checking code ########################\n",
    "# Please don't edit this code\n",
    "newList = fibonacci(10)\n",
    "if newList == [1, 1, 2, 3, 5, 8, 13, 21, 34, 55]:\n",
    "    print(\"Success!\")\n",
    "else:\n",
    "    print(\"Error! Your function returned\")\n",
    "    print(newList)\n",
    "    "
   ]
  },
  {
   "cell_type": "markdown",
   "metadata": {},
   "source": [
    "# 3. Guessing game 2\n",
    "Ask the user to input a number and then have the program guess it. After each guess, the user must input whether it was too high, too low or the correct number. In the end, the program must always guess the users number and it must print out the number of guesses it needed."
   ]
  },
  {
   "cell_type": "code",
   "execution_count": 3,
   "metadata": {},
   "outputs": [
    {
     "name": "stdout",
     "output_type": "stream",
     "text": [
      "Input a  number: 55\n",
      "My guess is 42\n",
      "Is the number too low, too high or equal? Type 'low', 'high' or '=': low\n",
      "My guess is 71\n",
      "Is the number too low, too high or equal? Type 'low', 'high' or '=': high\n",
      "My guess is 56\n",
      "Is the number too low, too high or equal? Type 'low', 'high' or '=': high\n",
      "My guess is 49\n",
      "Is the number too low, too high or equal? Type 'low', 'high' or '=': low\n",
      "My guess is 52\n",
      "Is the number too low, too high or equal? Type 'low', 'high' or '=': low\n",
      "My guess is 54\n",
      "Is the number too low, too high or equal? Type 'low', 'high' or '=': low\n",
      "My guess is 55\n",
      "Is the number too low, too high or equal? Type 'low', 'high' or '=': =\n",
      "Guessed correct input in 6 guesses!\n"
     ]
    }
   ],
   "source": [
    "import random\n",
    "\n",
    "num = int(input(\"Input a  number: \"))\n",
    "\n",
    "guess = random.randint(0,100)\n",
    "\n",
    "top_limit = 100\n",
    "bottom_limit = 0\n",
    "\n",
    "attempts = 0\n",
    "\n",
    "while True:\n",
    "    print(\"My guess is\", guess)\n",
    "    answer = input(\"Is the number too low, too high or equal? Type 'low', 'high' or '=': \")\n",
    "\n",
    "    if answer == \"=\":\n",
    "        break\n",
    "\n",
    "    elif answer == \"low\":\n",
    "        bottom_limit = guess\n",
    "        guess = bottom_limit + (top_limit - bottom_limit)//2\n",
    "        attempts = attempts + 1\n",
    "\n",
    "    elif answer == \"high\":\n",
    "        top_limit = guess\n",
    "        guess = bottom_limit + (top_limit - bottom_limit)//2\n",
    "        attempts = attempts + 1\n",
    "\n",
    "    else:\n",
    "        print(\"Wrong input character\")\n",
    "\n",
    "print(\"Guessed correct input in\", attempts, \"guesses!\")\n"
   ]
  },
  {
   "cell_type": "markdown",
   "metadata": {},
   "source": [
    "# 4. Find word\n",
    "Create a function that searches for a word within a provided lists of words. Inputs to the function should be a list of words and a word to search for\n",
    "\n",
    "The function should return `True` if the word is contained within the list and `False` otherwise."
   ]
  },
  {
   "cell_type": "code",
   "execution_count": 4,
   "metadata": {},
   "outputs": [
    {
     "name": "stdout",
     "output_type": "stream",
     "text": [
      "Success!\n"
     ]
    }
   ],
   "source": [
    "fruits = [\"banana\", \"orange\", \"grapefruit\", \"lime\", \"lemon\"]\n",
    "\n",
    "def findWord(wordList, word):\n",
    "    for each in wordList:\n",
    "        if word == each:\n",
    "            return True\n",
    "\n",
    "    return False\n",
    "    \n",
    "################ Checking code ########################\n",
    "# Please don't edit this code\n",
    "\n",
    "if findWord(fruits, \"lime\"):\n",
    "    print(\"Success!\")\n",
    "else:\n",
    "    print(\"Try again!\")"
   ]
  },
  {
   "cell_type": "markdown",
   "metadata": {},
   "source": [
    "# 5. Powers of 2\n",
    "Use a while loop to find the largest power of 2 which is less than 30 million."
   ]
  },
  {
   "cell_type": "code",
   "execution_count": 5,
   "metadata": {},
   "outputs": [
    {
     "name": "stdout",
     "output_type": "stream",
     "text": [
      "The biggest power of 2 less than 30M is 2147483648\n"
     ]
    }
   ],
   "source": [
    "num = 2\n",
    "while num <  30000000:\n",
    "    num = num ** 2\n",
    "    \n",
    "# the number has actually became bigger than 30M\n",
    "# therefore we have to reduce it's power\n",
    "\n",
    "num = num // 2\n",
    "\n",
    "print(\"The biggest power of 2 less than 30M is\", num)"
   ]
  },
  {
   "cell_type": "markdown",
   "metadata": {},
   "source": [
    "# 6. Making a better school\n",
    "This exercise is on defining classes. This topic is covered in the optional notebook python-intro-3-extra-classes.\n",
    "\n",
    "Below is a copy of the `School`, `Student` and `Exam` classes, together with a copy of the code needed to populate an object of that class with students and exam results. Edit the `School` class to add in the following functions:\n",
    "\n",
    "* `.resits()` : this should return the list of exams that each student should resit if they get a \"F\" or \"U\" grade.\n",
    "* `.prizeStudent()` : this should return the name of the student who scored the highest average percent across all of the exams.\n",
    "* `.reviseCourse(threshold)` : this should return the name of the exam that gets the lowest average score across all students, if the average score is below `threshold`.\n",
    "\n",
    "Use these functions to find out which students need to resit which exams, which student should be awarded the annual school prize, and which courses should be revised as the average mark is less than 50%."
   ]
  },
  {
   "cell_type": "code",
   "execution_count": 6,
   "metadata": {},
   "outputs": [],
   "source": [
    "class School:\n",
    "    def __init__(self):\n",
    "        self._students = {}\n",
    "        self._exams = []\n",
    "\n",
    "    def addStudent(self, name):\n",
    "        self._students[name] = Student(name)\n",
    "\n",
    "    def addExam(self, exam, max_score):\n",
    "        self._exams.append(exam)\n",
    "        \n",
    "        for key in self._students.keys():\n",
    "            self._students[key].addExam(exam, Exam(max_score))\n",
    "    \n",
    "    def addResult(self, name, exam, score):\n",
    "        self._students[name].addResult(exam, score)\n",
    "        \n",
    "    def grades(self):\n",
    "        grades = {}\n",
    "        for name in self._students.keys():\n",
    "            grades[name] = self._students[name].grades()\n",
    "        return grades\n",
    "    \n",
    "    def resits(self):\n",
    "        resit = {}\n",
    "        grades = self.grades()\n",
    "        for student in self._students:\n",
    "            fails = []\n",
    "            for exam in self._exams:\n",
    "                if grades[student][exam] == \"F\" or grades[student][exam] == \"U\":\n",
    "                    fails.append(exam)\n",
    "            if len(fails) != 0:\n",
    "                resit.update({student: fails})\n",
    "        \n",
    "        return resit\n",
    "    \n",
    "    def prizeStudent(self):\n",
    "        \n",
    "        # first get average grades per student\n",
    "        avg_grades = []\n",
    "        for student in self._students:\n",
    "            grades = []\n",
    "            for exam in self._exams:\n",
    "                grades.append(self._students[student]._exams[exam].percent())\n",
    "            avg = sum(grades) / len(grades)\n",
    "            avg_grades.append(avg)\n",
    "            \n",
    "        return self._students.keys[[avg_grades.index(max(avg_grades))]]\n",
    "    \n",
    "# NOTE: This si not a class method\n",
    "def addResults(school, exam, results):\n",
    "    for student in results.keys():\n",
    "        school.addResult(student, exam, results[student])\n",
    "\n",
    "\n",
    "class Student:\n",
    "    def __init__(self, name):\n",
    "        self._exams = {}\n",
    "        self._name = name\n",
    "    \n",
    "    def addExam(self, name, exam):\n",
    "        self._exams[name] = exam\n",
    "        \n",
    "    def addResult(self, name, score):\n",
    "        self._exams[name].setResult(score)\n",
    "    \n",
    "    def result(self, exam):\n",
    "        return self._exams[exam].percent()\n",
    "    \n",
    "    def grade(self, exam):\n",
    "        return self._exams[exam].grade()\n",
    "    \n",
    "    def grades(self):\n",
    "        g = {}\n",
    "        for exam in self._exams.keys():\n",
    "            g[exam] = self.grade(exam)\n",
    "        return g\n",
    "    \n",
    "\n",
    "class Exam:\n",
    "    def __init__(self, max_score=100):\n",
    "        self._max_score = max_score\n",
    "        self._actual_score = 0\n",
    "        \n",
    "    def percent(self):\n",
    "        return 100.0 * self._actual_score / self._max_score\n",
    "    \n",
    "    def setResult(self, score):\n",
    "        if score < 0:\n",
    "            self._actual_score = 0\n",
    "        elif score > self._max_score:\n",
    "            self._actual_score = self._max_score\n",
    "        else:\n",
    "            self._actual_score = score\n",
    "    \n",
    "    def grade(self):\n",
    "        if self._actual_score == 0:\n",
    "            return \"U\"\n",
    "        elif self.percent() > 70.0:\n",
    "            return \"A\"\n",
    "        elif self.percent() > 60.0:\n",
    "            return \"B\"\n",
    "        elif self.percent() > 50.0:\n",
    "            return \"C\"\n",
    "        else:\n",
    "            return \"F\"\n",
    "    \n",
    "# NOTE: This si not a class method\n",
    "def addResults(school, exam, results):\n",
    "    for student in results.keys():\n",
    "        school.addResult(student, exam, results[student])"
   ]
  },
  {
   "cell_type": "code",
   "execution_count": 7,
   "metadata": {},
   "outputs": [
    {
     "data": {
      "text/plain": [
       "{'Andrew': {'English': 'A', 'Maths': 'B', 'Physics': 'B'},\n",
       " 'James': {'English': 'F', 'Maths': 'A', 'Physics': 'A'},\n",
       " 'Laura': {'English': 'A', 'Maths': 'B', 'Physics': 'C'}}"
      ]
     },
     "execution_count": 7,
     "metadata": {},
     "output_type": "execute_result"
    }
   ],
   "source": [
    "school = School()\n",
    "\n",
    "school.grades()\n",
    "\n",
    "students = [\"Andrew\", \"James\", \"Laura\"]\n",
    "exams = { \"Maths\" : 20, \"Physics\" : 50, \"English\": 30}\n",
    "results = {\"Maths\" : {\"Andrew\" : 13, \"James\" : 17, \"Laura\" : 14},\n",
    "           \"Physics\" : {\"Andrew\" : 34, \"James\" : 44, \"Laura\" : 27},\n",
    "           \"English\" : {\"Andrew\" : 26, \"James\" : 14, \"Laura\" : 29}}\n",
    "\n",
    "for student in students:\n",
    "    school.addStudent(student)\n",
    "    \n",
    "for exam in exams.keys():\n",
    "    school.addExam(exam, exams[exam])\n",
    "    \n",
    "for result in results.keys():\n",
    "    addResults(school, result, results[result])\n",
    "    \n",
    "school.grades()"
   ]
  },
  {
   "cell_type": "code",
   "execution_count": 8,
   "metadata": {},
   "outputs": [
    {
     "data": {
      "text/plain": [
       "'James'"
      ]
     },
     "execution_count": 8,
     "metadata": {},
     "output_type": "execute_result"
    }
   ],
   "source": [
    "list(school._students.keys())[1]"
   ]
  },
  {
   "cell_type": "code",
   "execution_count": 9,
   "metadata": {},
   "outputs": [],
   "source": [
    "s = school._students[\"James\"]"
   ]
  },
  {
   "cell_type": "code",
   "execution_count": 10,
   "metadata": {},
   "outputs": [],
   "source": [
    "g = s._exams[\"Maths\"]"
   ]
  },
  {
   "cell_type": "code",
   "execution_count": 11,
   "metadata": {},
   "outputs": [
    {
     "data": {
      "text/plain": [
       "85.0"
      ]
     },
     "execution_count": 11,
     "metadata": {},
     "output_type": "execute_result"
    }
   ],
   "source": [
    "g.percent()"
   ]
  },
  {
   "cell_type": "code",
   "execution_count": 12,
   "metadata": {},
   "outputs": [
    {
     "data": {
      "text/plain": [
       "['Maths', 'Physics', 'English']"
      ]
     },
     "execution_count": 12,
     "metadata": {},
     "output_type": "execute_result"
    }
   ],
   "source": [
    "school._exams"
   ]
  },
  {
   "cell_type": "code",
   "execution_count": 13,
   "metadata": {},
   "outputs": [
    {
     "data": {
      "text/plain": [
       "0"
      ]
     },
     "execution_count": 13,
     "metadata": {},
     "output_type": "execute_result"
    }
   ],
   "source": [
    "lst = [6, 2, 3]\n",
    "lst.index(max(lst))"
   ]
  },
  {
   "cell_type": "code",
   "execution_count": null,
   "metadata": {},
   "outputs": [],
   "source": []
  }
 ],
 "metadata": {
  "kernelspec": {
   "display_name": "Python 3",
   "language": "python",
   "name": "python3"
  },
  "language_info": {
   "codemirror_mode": {
    "name": "ipython",
    "version": 3
   },
   "file_extension": ".py",
   "mimetype": "text/x-python",
   "name": "python",
   "nbconvert_exporter": "python",
   "pygments_lexer": "ipython3",
   "version": "3.6.8"
  }
 },
 "nbformat": 4,
 "nbformat_minor": 2
}
